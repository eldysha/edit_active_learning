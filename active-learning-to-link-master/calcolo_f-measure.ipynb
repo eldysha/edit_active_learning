{
 "cells": [
  {
   "cell_type": "code",
   "execution_count": 1,
   "metadata": {},
   "outputs": [],
   "source": [
    "import pandas as pd\n",
    "import numpy as np"
   ]
  },
  {
   "cell_type": "code",
   "execution_count": 7,
   "metadata": {},
   "outputs": [
    {
     "data": {
      "text/html": [
       "<div>\n",
       "<style scoped>\n",
       "    .dataframe tbody tr th:only-of-type {\n",
       "        vertical-align: middle;\n",
       "    }\n",
       "\n",
       "    .dataframe tbody tr th {\n",
       "        vertical-align: top;\n",
       "    }\n",
       "\n",
       "    .dataframe thead th {\n",
       "        text-align: right;\n",
       "    }\n",
       "</style>\n",
       "<table border=\"1\" class=\"dataframe\">\n",
       "  <thead>\n",
       "    <tr style=\"text-align: right;\">\n",
       "      <th></th>\n",
       "      <th>idAbt</th>\n",
       "      <th>idBuy</th>\n",
       "      <th>concat</th>\n",
       "    </tr>\n",
       "  </thead>\n",
       "  <tbody>\n",
       "    <tr>\n",
       "      <th>0</th>\n",
       "      <td>38477</td>\n",
       "      <td>10011646</td>\n",
       "      <td>3847710011646</td>\n",
       "    </tr>\n",
       "    <tr>\n",
       "      <th>1</th>\n",
       "      <td>38475</td>\n",
       "      <td>10140760</td>\n",
       "      <td>3847510140760</td>\n",
       "    </tr>\n",
       "    <tr>\n",
       "      <th>2</th>\n",
       "      <td>33053</td>\n",
       "      <td>10221960</td>\n",
       "      <td>3305310221960</td>\n",
       "    </tr>\n",
       "    <tr>\n",
       "      <th>3</th>\n",
       "      <td>27248</td>\n",
       "      <td>10246269</td>\n",
       "      <td>2724810246269</td>\n",
       "    </tr>\n",
       "    <tr>\n",
       "      <th>4</th>\n",
       "      <td>25262</td>\n",
       "      <td>10315184</td>\n",
       "      <td>2526210315184</td>\n",
       "    </tr>\n",
       "    <tr>\n",
       "      <th>...</th>\n",
       "      <td>...</td>\n",
       "      <td>...</td>\n",
       "      <td>...</td>\n",
       "    </tr>\n",
       "    <tr>\n",
       "      <th>1092</th>\n",
       "      <td>30593</td>\n",
       "      <td>204860316</td>\n",
       "      <td>30593204860316</td>\n",
       "    </tr>\n",
       "    <tr>\n",
       "      <th>1093</th>\n",
       "      <td>28059</td>\n",
       "      <td>205592435</td>\n",
       "      <td>28059205592435</td>\n",
       "    </tr>\n",
       "    <tr>\n",
       "      <th>1094</th>\n",
       "      <td>28225</td>\n",
       "      <td>205592439</td>\n",
       "      <td>28225205592439</td>\n",
       "    </tr>\n",
       "    <tr>\n",
       "      <th>1095</th>\n",
       "      <td>31176</td>\n",
       "      <td>205844279</td>\n",
       "      <td>31176205844279</td>\n",
       "    </tr>\n",
       "    <tr>\n",
       "      <th>1096</th>\n",
       "      <td>27778</td>\n",
       "      <td>205844282</td>\n",
       "      <td>27778205844282</td>\n",
       "    </tr>\n",
       "  </tbody>\n",
       "</table>\n",
       "<p>1097 rows × 3 columns</p>\n",
       "</div>"
      ],
      "text/plain": [
       "      idAbt      idBuy          concat\n",
       "0     38477   10011646   3847710011646\n",
       "1     38475   10140760   3847510140760\n",
       "2     33053   10221960   3305310221960\n",
       "3     27248   10246269   2724810246269\n",
       "4     25262   10315184   2526210315184\n",
       "...     ...        ...             ...\n",
       "1092  30593  204860316  30593204860316\n",
       "1093  28059  205592435  28059205592435\n",
       "1094  28225  205592439  28225205592439\n",
       "1095  31176  205844279  31176205844279\n",
       "1096  27778  205844282  27778205844282\n",
       "\n",
       "[1097 rows x 3 columns]"
      ]
     },
     "execution_count": 7,
     "metadata": {},
     "output_type": "execute_result"
    }
   ],
   "source": [
    "label_df=pd.read_csv(\"C:/Users/abdel/LIMES-1.7.4/limes-core/src/main/resources/datasets/Abt-Buy/abt_buy_perfectMapping.csv\")\n",
    "label_df.head()\n",
    "\n",
    "label_df[\"concat\"]=label_df[\"idAbt\"].astype(str)+label_df[\"idBuy\"].astype(str)\n",
    "#print(label_df.head())\n",
    "match_labels_list=label_df[\"concat\"].tolist()\n",
    "label_df"
   ]
  },
  {
   "cell_type": "code",
   "execution_count": 5,
   "metadata": {},
   "outputs": [
    {
     "data": {
      "text/plain": [
       "572"
      ]
     },
     "execution_count": 5,
     "metadata": {},
     "output_type": "execute_result"
    }
   ],
   "source": [
    "Dragon_match=pd.read_csv(\"matched (1).txt\", sep='\\t', header=None)\n",
    "Dragon_review=pd.read_csv(\"reviewme (1).txt\", sep='\\t', header=None)\n",
    "Dragon_match[0] = Dragon_match[0].str.replace(r'\\D', '')\n",
    "Dragon_match[1] = Dragon_match[1].str.replace(r'\\D', '')\n",
    "Dragon_review[0] = Dragon_review[0].str.replace(r'\\D', '')\n",
    "Dragon_review[1] = Dragon_review[1].str.replace(r'\\D', '')\n",
    "#df\n",
    "#Dragon_match.head()\n",
    "#Dragon_review.head()\n",
    "Dragon_total=Dragon_match.append(Dragon_review, ignore_index=True)\n",
    "#Dragon_total.head()\n",
    "Dragon_total.columns= ['source','target', 'similarity_value']\n",
    "#Dragon_total.head()\n",
    "Dragon_total = Dragon_total.sort_values(['similarity_value'], ascending=False)\n",
    "Dragon_total=Dragon_total.reset_index(drop=True)\n",
    "Dragon_total=Dragon_total.drop_duplicates(subset=['source'], keep='first')\n",
    "Dragon_total=Dragon_total.reset_index(drop=True)\n",
    "Dragon_total.head()\n",
    "Dragon_total[\"concat\"]=Dragon_total[\"source\"].astype(str)+Dragon_total[\"target\"].astype(str)\n",
    "\n",
    "match_dragon_list=Dragon_total[\"concat\"].tolist()\n",
    "len(match_dragon_list)"
   ]
  },
  {
   "cell_type": "code",
   "execution_count": 10,
   "metadata": {},
   "outputs": [],
   "source": [
    "true_positive=0\n",
    "false_positive=0\n",
    "for i in match_dragon_list:\n",
    "    if i in match_labels_list:\n",
    "        true_positive+= 1\n",
    "    else:\n",
    "        false_positive += 1\n",
    "        \n",
    "        "
   ]
  },
  {
   "cell_type": "code",
   "execution_count": 15,
   "metadata": {},
   "outputs": [
    {
     "name": "stdout",
     "output_type": "stream",
     "text": [
      "428\n",
      "144\n",
      "669\n"
     ]
    }
   ],
   "source": [
    "print(true_positive)\n",
    "print(false_positive)\n",
    "print(false_negative)"
   ]
  },
  {
   "cell_type": "code",
   "execution_count": 14,
   "metadata": {},
   "outputs": [],
   "source": [
    "false_negative=0\n",
    "for i in match_labels_list:\n",
    "    if i not in match_dragon_list:\n",
    "        false_negative+=1"
   ]
  },
  {
   "cell_type": "code",
   "execution_count": 16,
   "metadata": {},
   "outputs": [
    {
     "data": {
      "text/plain": [
       "0.5128819652486519"
      ]
     },
     "execution_count": 16,
     "metadata": {},
     "output_type": "execute_result"
    }
   ],
   "source": [
    "true_positive/(true_positive+0.5*(false_positive+ false_negative))"
   ]
  }
 ],
 "metadata": {
  "kernelspec": {
   "display_name": "Python 3",
   "language": "python",
   "name": "python3"
  },
  "language_info": {
   "codemirror_mode": {
    "name": "ipython",
    "version": 3
   },
   "file_extension": ".py",
   "mimetype": "text/x-python",
   "name": "python",
   "nbconvert_exporter": "python",
   "pygments_lexer": "ipython3",
   "version": "3.7.6"
  }
 },
 "nbformat": 4,
 "nbformat_minor": 4
}
